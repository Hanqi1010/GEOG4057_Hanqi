{
 "cells": [
  {
   "cell_type": "code",
   "execution_count": 10,
   "metadata": {},
   "outputs": [],
   "source": [
    "import json\n",
    "import arcpy\n",
    "import os"
   ]
  },
  {
   "cell_type": "code",
   "execution_count": 11,
   "metadata": {},
   "outputs": [],
   "source": [
    "def importJSON(input='no_tax.json',output='notax_fc1.shp'):\n",
    "    '''\n",
    "    Function to import JSON format data into\n",
    "    '''\n",
    "    with open(input,'r') as file:\n",
    "        tax_json = json.load(file)\n",
    "    \n",
    "    for row in tax_json['data']:\n",
    "        row[8] = arcpy.FromWKT(row[8])\n",
    "        \n",
    "    fcname = output\n",
    "    workspace = r'F:\\OneDrive - Louisiana State University\\LSU_Course\\GEOG\\GEOG 4057 GIS Programming\\Projects\\Project_1'\n",
    "    fc_fullname = os.path.join(workspace,fcname)\n",
    "    if arcpy.Exists(fc_fullname):\n",
    "        arcpy.management.Delete(fc_fullname)\n",
    "    \n",
    "    arcpy.management.CreateFeatureclass(out_path=workspace,out_name=fcname,\n",
    "                                        geometry_type='POLYGON',\n",
    "                                        spatial_reference=4236)\n",
    "\n",
    "    desc = arcpy.da.Describe(fc_fullname)\n",
    "    for field in desc['fields']:\n",
    "        print(field.name)\n",
    "    ## add field names\n",
    "    fields = tax_json['meta']['view']['columns']\n",
    "    for field in fields:\n",
    "        print(field['name'])\n",
    "    \n",
    "    field_type = ['TEXT','TEXT','LONG','LONG','TEXT','LONG','TEXT','TEXT','TEXT','TEXT','TEXT','TEXT','TEXT']\n",
    "    field_names = []\n",
    "    for ind,field in enumerate(fields):\n",
    "        name = field['name']\n",
    "        if name == 'the_geom':\n",
    "            continue\n",
    "        if name.lower() == 'id':\n",
    "            name = f'id_{ind}'\n",
    "        max_len = min(10,len(name))\n",
    "        name = name[:max_len]\n",
    "        field_names.append(name)\n",
    "    field_names = [field.replace(\" \",\"_\") for field in field_names]\n",
    "    field_names = [field.replace(\".\",\"_\") for field in field_names]\n",
    "    field_names\n",
    "    \n",
    "    # Add data to the feature class\n",
    "    for ind,field_name in enumerate(field_names):\n",
    "        arcpy.management.AddField(fc_fullname,field_name=field_name,field_type=field_type[ind])\n",
    "    field_names.append('SHAPE@')\n",
    "    \n",
    "    # Write data to the shapefile\n",
    "    with arcpy.da.InsertCursor(fc_fullname,field_names=field_names) as cursor:\n",
    "        for row in tax_json['data']:\n",
    "            new_row = []\n",
    "            for ind, value in enumerate(row):\n",
    "                if ind == 8:\n",
    "                    continue\n",
    "                if value == None:\n",
    "                    value = \"\"\n",
    "                new_row.append(value)\n",
    "            new_row.append(row[8])\n",
    "            cursor.insertRow(new_row)\n",
    "    "
   ]
  },
  {
   "cell_type": "code",
   "execution_count": 12,
   "metadata": {},
   "outputs": [],
   "source": [
    "def main():\n",
    "    importJSON()"
   ]
  },
  {
   "cell_type": "code",
   "execution_count": 13,
   "metadata": {},
   "outputs": [
    {
     "name": "stdout",
     "output_type": "stream",
     "text": [
      "FID\n",
      "Shape\n",
      "Id\n",
      "sid\n",
      "id\n",
      "position\n",
      "created_at\n",
      "created_meta\n",
      "updated_at\n",
      "updated_meta\n",
      "meta\n",
      "the_geom\n",
      "OBJECTID\n",
      "ID\n",
      "Cluster Letter\n",
      "Shape.STArea()\n",
      "Shape.STLength()\n"
     ]
    }
   ],
   "source": [
    "if __name__ == '__main__':\n",
    "    main()"
   ]
  },
  {
   "cell_type": "code",
   "execution_count": null,
   "metadata": {},
   "outputs": [],
   "source": []
  }
 ],
 "metadata": {
  "kernelspec": {
   "display_name": "ArcPyClone",
   "language": "python",
   "name": "python3"
  },
  "language_info": {
   "codemirror_mode": {
    "name": "ipython",
    "version": 3
   },
   "file_extension": ".py",
   "mimetype": "text/x-python",
   "name": "python",
   "nbconvert_exporter": "python",
   "pygments_lexer": "ipython3",
   "version": "3.11.10"
  }
 },
 "nbformat": 4,
 "nbformat_minor": 2
}
