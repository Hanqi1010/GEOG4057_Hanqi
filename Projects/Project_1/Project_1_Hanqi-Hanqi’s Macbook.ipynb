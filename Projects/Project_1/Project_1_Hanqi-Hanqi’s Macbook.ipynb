{
 "cells": [
  {
   "cell_type": "code",
   "execution_count": 1,
   "metadata": {},
   "outputs": [],
   "source": [
    "import json\n"
   ]
  },
  {
   "cell_type": "code",
   "execution_count": 4,
   "metadata": {},
   "outputs": [],
   "source": [
    "with open('no_tax.json','r') as file:\n",
    "    tax_json = json.load(file)"
   ]
  },
  {
   "cell_type": "code",
   "execution_count": 5,
   "metadata": {},
   "outputs": [],
   "source": [
    "import arcpy\n",
    "for row in tax_json['data']:\n",
    "    row[8] = arcpy.FromWKT(row[8])"
   ]
  },
  {
   "cell_type": "code",
   "execution_count": 6,
   "metadata": {},
   "outputs": [],
   "source": [
    "import os\n",
    "fcname = 'notax_fc.shp'\n",
    "workspace = r'F:\\OneDrive - Louisiana State University\\LSU_Course\\GEOG\\GEOG 4057 GIS Programming\\Projects\\Project_1'\n",
    "fc_fullname = os.path.join(workspace,fcname)\n",
    "if arcpy.Exists(fc_fullname):\n",
    "    arcpy.management.Delete(fc_fullname)\n",
    "\n"
   ]
  },
  {
   "cell_type": "code",
   "execution_count": 7,
   "metadata": {},
   "outputs": [
    {
     "name": "stdout",
     "output_type": "stream",
     "text": [
      "FID\n",
      "Shape\n",
      "Id\n"
     ]
    }
   ],
   "source": [
    "arcpy.management.CreateFeatureclass(out_path=workspace,out_name=fcname,\n",
    "                                    geometry_type='POLYGON',\n",
    "                                    spatial_reference=4236)\n",
    "\n",
    "desc = arcpy.da.Describe(fc_fullname)\n",
    "for field in desc['fields']:\n",
    "    print(field.name)"
   ]
  },
  {
   "cell_type": "code",
   "execution_count": 9,
   "metadata": {},
   "outputs": [
    {
     "name": "stdout",
     "output_type": "stream",
     "text": [
      "sid\n",
      "id\n",
      "position\n",
      "created_at\n",
      "created_meta\n",
      "updated_at\n",
      "updated_meta\n",
      "meta\n",
      "the_geom\n",
      "OBJECTID\n",
      "ID\n",
      "Cluster Letter\n",
      "Shape.STArea()\n",
      "Shape.STLength()\n"
     ]
    }
   ],
   "source": [
    "\n",
    "## add field names\n",
    "fields = tax_json['meta']['view']['columns']\n",
    "for field in fields:\n",
    "    print(field['name'])\n"
   ]
  },
  {
   "cell_type": "code",
   "execution_count": null,
   "metadata": {},
   "outputs": [],
   "source": [
    "field_type = ['TEXT','TEXT','LONG','LONG','TEXT','LONG','TEXT','TEXT','TEXT','TEXT','TEXT','TEXT','TEXT']\n",
    "field_names = []\n",
    "for ind,field in enumerate(fields):\n",
    "    name = field['name']\n",
    "    if name == 'the_geom':\n",
    "        continue\n",
    "    if name.lower() == 'id':\n",
    "        name = f'id_{ind}'\n",
    "    max_len = min(10,len(name))\n",
    "    name = name[:max_len]\n",
    "    field_names.append(name)\n",
    "field_names = [field.replace(\" \",\"_\") for field in field_names]\n",
    "field_names = [field.replace(\".\",\"_\") for field in field_names]\n",
    "field_names"
   ]
  }
 ],
 "metadata": {
  "kernelspec": {
   "display_name": "ArcPyClone",
   "language": "python",
   "name": "python3"
  },
  "language_info": {
   "codemirror_mode": {
    "name": "ipython",
    "version": 3
   },
   "file_extension": ".py",
   "mimetype": "text/x-python",
   "name": "python",
   "nbconvert_exporter": "python",
   "pygments_lexer": "ipython3",
   "version": "3.11.10"
  }
 },
 "nbformat": 4,
 "nbformat_minor": 2
}
