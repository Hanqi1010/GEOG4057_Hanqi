{
 "cells": [
  {
   "cell_type": "code",
   "execution_count": 1,
   "metadata": {},
   "outputs": [],
   "source": [
    "import arcpy"
   ]
  },
  {
   "cell_type": "code",
   "execution_count": 6,
   "metadata": {},
   "outputs": [
    {
     "name": "stdout",
     "output_type": "stream",
     "text": [
      "Hello world！\n"
     ]
    }
   ],
   "source": [
    "print(\"Hello world！\")"
   ]
  },
  {
   "cell_type": "code",
   "execution_count": 9,
   "metadata": {},
   "outputs": [
    {
     "ename": "<class 'arcgisscripting.ExecuteError'>",
     "evalue": "Failed to execute. Parameters are not valid.\nERROR 000732: Input Features: Dataset StudyBoundary.shp does not exist or is not supported\nERROR 000735: Distance [value or field]: Value is required\nFailed to execute (Buffer).\n",
     "output_type": "error",
     "traceback": [
      "\u001b[1;31m---------------------------------------------------------------------------\u001b[0m",
      "\u001b[1;31mExecuteError\u001b[0m                              Traceback (most recent call last)",
      "Cell \u001b[1;32mIn[9], line 1\u001b[0m\n\u001b[1;32m----> 1\u001b[0m arcpy\u001b[38;5;241m.\u001b[39manalysis\u001b[38;5;241m.\u001b[39mBuffer(\u001b[38;5;124m\"\u001b[39m\u001b[38;5;124mStudyBoundary.shp\u001b[39m\u001b[38;5;124m\"\u001b[39m)\n",
      "File \u001b[1;32m~\\AppData\\Local\\Programs\\ArcGIS\\Pro\\Resources\\ArcPy\\arcpy\\analysis.py:1699\u001b[0m, in \u001b[0;36mBuffer\u001b[1;34m(in_features, out_feature_class, buffer_distance_or_field, line_side, line_end_type, dissolve_option, dissolve_field, method)\u001b[0m\n\u001b[0;32m   1697\u001b[0m     \u001b[38;5;28;01mreturn\u001b[39;00m retval\n\u001b[0;32m   1698\u001b[0m \u001b[38;5;28;01mexcept\u001b[39;00m \u001b[38;5;167;01mException\u001b[39;00m \u001b[38;5;28;01mas\u001b[39;00m e:\n\u001b[1;32m-> 1699\u001b[0m     \u001b[38;5;28;01mraise\u001b[39;00m e\n",
      "File \u001b[1;32m~\\AppData\\Local\\Programs\\ArcGIS\\Pro\\Resources\\ArcPy\\arcpy\\analysis.py:1681\u001b[0m, in \u001b[0;36mBuffer\u001b[1;34m(in_features, out_feature_class, buffer_distance_or_field, line_side, line_end_type, dissolve_option, dissolve_field, method)\u001b[0m\n\u001b[0;32m   1677\u001b[0m \u001b[38;5;28;01mfrom\u001b[39;00m \u001b[38;5;21;01marcpy\u001b[39;00m\u001b[38;5;21;01m.\u001b[39;00m\u001b[38;5;21;01marcobjects\u001b[39;00m\u001b[38;5;21;01m.\u001b[39;00m\u001b[38;5;21;01marcobjectconversion\u001b[39;00m \u001b[38;5;28;01mimport\u001b[39;00m convertArcObjectToPythonObject\n\u001b[0;32m   1679\u001b[0m \u001b[38;5;28;01mtry\u001b[39;00m:\n\u001b[0;32m   1680\u001b[0m     retval \u001b[38;5;241m=\u001b[39m convertArcObjectToPythonObject(\n\u001b[1;32m-> 1681\u001b[0m         gp\u001b[38;5;241m.\u001b[39mBuffer_analysis(\n\u001b[0;32m   1682\u001b[0m             \u001b[38;5;241m*\u001b[39mgp_fixargs(\n\u001b[0;32m   1683\u001b[0m                 (\n\u001b[0;32m   1684\u001b[0m                     in_features,\n\u001b[0;32m   1685\u001b[0m                     out_feature_class,\n\u001b[0;32m   1686\u001b[0m                     buffer_distance_or_field,\n\u001b[0;32m   1687\u001b[0m                     line_side,\n\u001b[0;32m   1688\u001b[0m                     line_end_type,\n\u001b[0;32m   1689\u001b[0m                     dissolve_option,\n\u001b[0;32m   1690\u001b[0m                     dissolve_field,\n\u001b[0;32m   1691\u001b[0m                     method,\n\u001b[0;32m   1692\u001b[0m                 ),\n\u001b[0;32m   1693\u001b[0m                 \u001b[38;5;28;01mTrue\u001b[39;00m,\n\u001b[0;32m   1694\u001b[0m             )\n\u001b[0;32m   1695\u001b[0m         )\n\u001b[0;32m   1696\u001b[0m     )\n\u001b[0;32m   1697\u001b[0m     \u001b[38;5;28;01mreturn\u001b[39;00m retval\n\u001b[0;32m   1698\u001b[0m \u001b[38;5;28;01mexcept\u001b[39;00m \u001b[38;5;167;01mException\u001b[39;00m \u001b[38;5;28;01mas\u001b[39;00m e:\n",
      "File \u001b[1;32m~\\AppData\\Local\\Programs\\ArcGIS\\Pro\\Resources\\ArcPy\\arcpy\\geoprocessing\\_base.py:532\u001b[0m, in \u001b[0;36mGeoprocessor.__getattr__.<locals>.<lambda>\u001b[1;34m(*args)\u001b[0m\n\u001b[0;32m    530\u001b[0m val \u001b[38;5;241m=\u001b[39m \u001b[38;5;28mgetattr\u001b[39m(\u001b[38;5;28mself\u001b[39m\u001b[38;5;241m.\u001b[39m_gp, attr)\n\u001b[0;32m    531\u001b[0m \u001b[38;5;28;01mif\u001b[39;00m \u001b[38;5;28mcallable\u001b[39m(val):\n\u001b[1;32m--> 532\u001b[0m     \u001b[38;5;28;01mreturn\u001b[39;00m \u001b[38;5;28;01mlambda\u001b[39;00m \u001b[38;5;241m*\u001b[39margs: val(\u001b[38;5;241m*\u001b[39mgp_fixargs(args, \u001b[38;5;28;01mTrue\u001b[39;00m))\n\u001b[0;32m    533\u001b[0m \u001b[38;5;28;01melse\u001b[39;00m:\n\u001b[0;32m    534\u001b[0m     \u001b[38;5;28;01mreturn\u001b[39;00m convertArcObjectToPythonObject(val)\n",
      "\u001b[1;31mExecuteError\u001b[0m: Failed to execute. Parameters are not valid.\nERROR 000732: Input Features: Dataset StudyBoundary.shp does not exist or is not supported\nERROR 000735: Distance [value or field]: Value is required\nFailed to execute (Buffer).\n"
     ]
    }
   ],
   "source": [
    "arcpy.analysis.Buffer(\"StudyBoundary.shp\")"
   ]
  },
  {
   "cell_type": "code",
   "execution_count": null,
   "metadata": {},
   "outputs": [],
   "source": []
  }
 ],
 "metadata": {
  "kernelspec": {
   "display_name": "ArcGISPro",
   "language": "python",
   "name": "python3"
  },
  "language_info": {
   "file_extension": ".py",
   "mimetype": "text/x-python",
   "name": "python",
   "version": "3.11.10"
  }
 },
 "nbformat": 4,
 "nbformat_minor": 4
}
