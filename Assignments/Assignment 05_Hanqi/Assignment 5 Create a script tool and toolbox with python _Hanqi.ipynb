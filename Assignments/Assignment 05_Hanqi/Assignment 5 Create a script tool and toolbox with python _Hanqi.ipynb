{
 "cells": [
  {
   "cell_type": "markdown",
   "metadata": {},
   "source": [
    "Assignment 5 Create a script tool and toolbox with python _Hanqi"
   ]
  }
 ],
 "metadata": {
  "language_info": {
   "name": "python"
  }
 },
 "nbformat": 4,
 "nbformat_minor": 2
}
