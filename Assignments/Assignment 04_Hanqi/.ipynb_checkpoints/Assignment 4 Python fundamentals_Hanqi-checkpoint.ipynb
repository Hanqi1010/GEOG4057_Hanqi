{
 "cells": [
  {
   "cell_type": "markdown",
   "metadata": {},
   "source": [
    "# Assignment 4 Python fundamentals_Hanqi"
   ]
  },
  {
   "cell_type": "markdown",
   "metadata": {},
   "source": [
    "## Requirements: (10 pnts)\n",
    "- Add this notebook to ArcGIS Pro\n",
    "- for each of following questions, add and fill a code box with your answer, and run it to get the output\n",
    "- Upload the updated ipynb file as your assignment submission to Moodle for grading\n",
    "- 10 pnts go to on-time submissions "
   ]
  },
  {
   "cell_type": "markdown",
   "metadata": {},
   "source": [
    "### Q1 County name list (15 pnts)\n",
    "- Find out the five parishes in Louisiana with the most population (by Google or some other sources)\n",
    "- Create a *list* named *counties* with the five county names (2 pnts)\n",
    "- print the length of the list (3 pnts)\n",
    "- Use a *for loop* to print the county names one by one (10 pnts)\n"
   ]
  },
  {
   "cell_type": "code",
   "execution_count": 3,
   "metadata": {},
   "outputs": [
    {
     "name": "stdout",
     "output_type": "stream",
     "text": [
      "5\n",
      "East Baton Rouge\n",
      "Jefferson\n",
      "Orleans\n",
      "St. Tammany\n",
      "Lafayette\n"
     ]
    }
   ],
   "source": [
    "counties = [\"East Baton Rouge\", \"Jefferson\", \"Orleans\", \"St. Tammany\", \"Lafayette\"]\n",
    "print(len(counties))\n",
    "for i in counties:\n",
    "    print(i)"
   ]
  },
  {
   "cell_type": "markdown",
   "metadata": {},
   "source": [
    "### Q2 County population dictionary (15 pnts)\n",
    "- Create a *dictionary* named *county_pop* with the five county names as keys and their population as values (2 pnts)\n",
    "- print the population of the county that has the largest population using the dict[key] operator (e.g. county_pop['countyname']) (3 pnts)\n",
    "- print the population of the county that has the least population (2 pnts)\n",
    "- Use a for loop to calculate the total population from the dictionary (hint, for county in county_pop: ... ) (10 pnts)"
   ]
  },
  {
   "cell_type": "code",
   "execution_count": 20,
   "metadata": {},
   "outputs": [
    {
     "name": "stdout",
     "output_type": "stream",
     "text": [
      "448467\n",
      "249750\n",
      "1759713\n"
     ]
    }
   ],
   "source": [
    "county_pop = {\n",
    "    \"East Baton Rouge\" : 448467,\n",
    "    \"Jefferson\" : 421777,\n",
    "    \"Orleans\" : 364136,\n",
    "    \"St. Tammany\" : 275583,\n",
    "    \"Lafayette\" : 249750 \n",
    "             }\n",
    "print(county_pop[\"East Baton Rouge\"])\n",
    "print(county_pop[\"Lafayette\"])\n",
    "\n",
    "totalpop = 0\n",
    "for county in county_pop:\n",
    "    totalpop +=county_pop[county]\n",
    "print(totalpop)       "
   ]
  },
  {
   "cell_type": "markdown",
   "metadata": {},
   "source": [
    "### Q3 string formatting (10 pnts)\n",
    "- Use the county_pop dictionary to print the county names and populations as the following formatted string: (10 pnts)\n",
    "county1 has a population of ###\n",
    "county2 has a population of ###\n",
    "...\n",
    "- You can choose to use a for loop or not"
   ]
  },
  {
   "cell_type": "code",
   "execution_count": 19,
   "metadata": {},
   "outputs": [
    {
     "name": "stdout",
     "output_type": "stream",
     "text": [
      "East Baton Rouge has a population of 448467.\n",
      "Jefferson has a population of 421777.\n",
      "Orleans has a population of 364136.\n",
      "St. Tammany has a population of 275583.\n",
      "Lafayette has a population of 249750.\n"
     ]
    }
   ],
   "source": [
    "for county, pop in county_pop.items():\n",
    "    print(f\"{county} has a population of {pop}.\")"
   ]
  },
  {
   "cell_type": "markdown",
   "metadata": {},
   "source": [
    "### Q4 shape file names for each county (10 pnts)\n",
    "- Use the counties list as input\n",
    "- For each county, create the string for its shapefile name. For example, county1.shp, county2.shp (hint: use the + operator or the f-string feature) (10 pnts)\n",
    "- You can choose to use a for loop or not \n"
   ]
  },
  {
   "cell_type": "code",
   "execution_count": 17,
   "metadata": {},
   "outputs": [
    {
     "name": "stdout",
     "output_type": "stream",
     "text": [
      "['East Baton Rouge.shp', 'Jefferson.shp', 'Orleans.shp', 'St. Tammany.shp', 'Lafayette.shp']\n"
     ]
    }
   ],
   "source": [
    "countyshp = []\n",
    "for i in counties:\n",
    "    countyshp.append(i+\".shp\")\n",
    "print(countyshp)"
   ]
  },
  {
   "cell_type": "markdown",
   "metadata": {},
   "source": [
    "### Q5 create a full path name for each county (10 pnts)\n",
    "- Define a variable called *data_path* and store a string as a path name. For example, \"C:/data\" (5 pnts)\n",
    "- Use the os.path.join() function to create a full path name for each county. For example, \"C:/data/county1.shp\" (5 pnts)\n",
    "- Required: you have to use a for...loop on this question"
   ]
  },
  {
   "cell_type": "code",
   "execution_count": 21,
   "metadata": {},
   "outputs": [
    {
     "name": "stdout",
     "output_type": "stream",
     "text": [
      "F:\\OneDrive - Louisiana State University\\LSU_Course\\GEOG\\GEOG 4057 GIS Programming\\GEOG4057_Hanqi\\Assignments\\Assignment04_Hanqi\\East_Baton_Rouge.shp\n",
      "F:\\OneDrive - Louisiana State University\\LSU_Course\\GEOG\\GEOG 4057 GIS Programming\\GEOG4057_Hanqi\\Assignments\\Assignment04_Hanqi\\Jefferson.shp\n",
      "F:\\OneDrive - Louisiana State University\\LSU_Course\\GEOG\\GEOG 4057 GIS Programming\\GEOG4057_Hanqi\\Assignments\\Assignment04_Hanqi\\Orleans.shp\n",
      "F:\\OneDrive - Louisiana State University\\LSU_Course\\GEOG\\GEOG 4057 GIS Programming\\GEOG4057_Hanqi\\Assignments\\Assignment04_Hanqi\\St._Tammany.shp\n",
      "F:\\OneDrive - Louisiana State University\\LSU_Course\\GEOG\\GEOG 4057 GIS Programming\\GEOG4057_Hanqi\\Assignments\\Assignment04_Hanqi\\Lafayette.shp\n"
     ]
    }
   ],
   "source": [
    "import os\n",
    "data_path = r\"F:\\OneDrive - Louisiana State University\\LSU_Course\\GEOG\\GEOG 4057 GIS Programming\\GEOG4057_Hanqi\\Assignments\\Assignment04_Hanqi\"\n",
    "for county in county_pop:\n",
    "    full_path = os.path.join(data_path, f\"{county.replace(' ', '_')}.shp\")\n",
    "    print(full_path)"
   ]
  },
  {
   "cell_type": "markdown",
   "metadata": {},
   "source": [
    "### Q6 Define a function (30 pnts)\n",
    "- Define a function called countPopulation (5 pnts)\n",
    "- Define the function's docstring using the triple quotes with following content:(5 pnts)\n",
    "  <q>Compute the total populatoin of the counties in the dictionary \n",
    "   GEOG 4057 GIS Programming</q>\n",
    "\n",
    "- Complete the fucntion so it can return the value of total population (10 pnts)\n",
    "- print the function's docstring using the dunder doc attribute (5 pnts)\n",
    "- Call the function from the code block to print the total population (5 pnts)"
   ]
  },
  {
   "cell_type": "code",
   "execution_count": 24,
   "metadata": {},
   "outputs": [
    {
     "name": "stdout",
     "output_type": "stream",
     "text": [
      "\n",
      "    Compute the total populatoin of the counties in the dictionary\n",
      "    GEOG 4057 GIS Programming\n",
      "    \n"
     ]
    }
   ],
   "source": [
    "def countPopulation(dict):\n",
    "    \"\"\"\n",
    "    Compute the total populatoin of the counties in the dictionary\n",
    "    GEOG 4057 GIS Programming\n",
    "    \"\"\"\n",
    "    totalPop = 0\n",
    "    for pop in dict.values():\n",
    "        totalPop += pop\n",
    "    return totalPop\n",
    "print(countPopulation.__doc__)"
   ]
  },
  {
   "cell_type": "code",
   "execution_count": 28,
   "metadata": {},
   "outputs": [
    {
     "data": {
      "text/plain": [
       "1759713"
      ]
     },
     "execution_count": 28,
     "metadata": {},
     "output_type": "execute_result"
    }
   ],
   "source": [
    "countPopulation(county_pop)"
   ]
  },
  {
   "cell_type": "code",
   "execution_count": null,
   "metadata": {},
   "outputs": [],
   "source": []
  }
 ],
 "metadata": {
  "kernelspec": {
   "display_name": "ArcGISPro",
   "language": "python",
   "name": "python3"
  },
  "language_info": {
   "file_extension": ".py",
   "mimetype": "text/x-python",
   "name": "python",
   "version": "3.11.10"
  }
 },
 "nbformat": 4,
 "nbformat_minor": 4
}
