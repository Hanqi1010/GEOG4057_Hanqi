{
 "cells": [
  {
   "cell_type": "markdown",
   "metadata": {},
   "source": [
    "# Introduction\n",
    " In this assignment, you will do exercises on arcpy.Exists(), arcpy.Walk(), arcpy.da.Describe(), python list comprehension, arcpy.da.SearchCursor, and arcpy.da.InsertCursor(). In each section, a code block is provided but not ready to run. You need to add this notebook to ArcGIS Pro, modify each block to make it runable, keep the output message , and write an explanation of the code block. \n",
    "\n",
    " Data preparation: \n",
    " Download the points.csv from the data folder. "
   ]
  },
  {
   "cell_type": "markdown",
   "metadata": {},
   "source": [
    "## First, let's use ArcToolbox tools to convert the csv to a feature class (10 pnts)\n",
    "\n",
    "- In ArcGIS Pro, search for \"XYTable to Point\"\n",
    "- In the dialog, put the \"point.csv\" from this folder as the input table\n",
    "- Name the output something like \"point_fromxy\"\n",
    "- Before, you run the model, in the Run button, click the small triangle and select \"Copy Python Command\"\n",
    "- Paste your python code below in the code block\n",
    "- Run the code block to make sure it works\n",
    "- Compare the python code and the ArcGIS Pro Geoprocessing pane dialog interface \n"
   ]
  },
  {
   "cell_type": "code",
   "execution_count": 1,
   "metadata": {},
   "outputs": [
    {
     "data": {
      "text/html": [
       "<div class='gpresult'><h2 class='msg-title'>Messages</h2><div id='messages'>Start Time: Saturday, January 11, 2025 11:13:24 PM<br>Succeeded at Saturday, January 11, 2025 11:13:26 PM (Elapsed Time: 2.13 seconds)<br></div><div id = 'default' /></div></div>"
      ],
      "text/plain": [
       "<Result 'F:\\\\OneDrive - Louisiana State University\\\\LSU_Course\\\\GEOG\\\\GEOG 4057 GIS Programming\\\\GEOG4057_Hanqi\\\\Assignments\\\\Assignment 06_Hanqi\\\\Assignment 6 Spatial Data Manipulation_Hanqi\\\\Assignment 6 Spatial Data Manipulation_Hanqi.gdb\\\\point_fromXY'>"
      ]
     },
     "execution_count": 1,
     "metadata": {},
     "output_type": "execute_result"
    }
   ],
   "source": [
    "# To get the 10 points \n",
    "# Paste the python code from the above instruction here\n",
    "# make sure you start with import arcpy\n",
    "\n",
    "import arcpy\n",
    "arcpy.management.XYTableToPoint(\n",
    "    in_table=r\"F:\\OneDrive - Louisiana State University\\LSU_Course\\GEOG\\GEOG 4057 GIS Programming\\GEOG4057_Hanqi\\Assignments\\Assignment 06_Hanqi\\points.csv\",\n",
    "    out_feature_class=r\"F:\\OneDrive - Louisiana State University\\LSU_Course\\GEOG\\GEOG 4057 GIS Programming\\GEOG4057_Hanqi\\Assignments\\Assignment 06_Hanqi\\Assignment 6 Spatial Data Manipulation_Hanqi\\Assignment 6 Spatial Data Manipulation_Hanqi.gdb\\point_fromXY\",\n",
    "    x_field=\"X\",\n",
    "    y_field=\"Y\",\n",
    "    z_field=None,\n",
    "    coordinate_system='GEOGCS[\"GCS_WGS_1984\",DATUM[\"D_WGS_1984\",SPHEROID[\"WGS_1984\",6378137.0,298.257223563]],PRIMEM[\"Greenwich\",0.0],UNIT[\"Degree\",0.0174532925199433]];-400 -400 1000000000;-100000 10000;-100000 10000;8.98315284119521E-09;0.001;0.001;IsHighPrecision'\n",
    ")"
   ]
  },
  {
   "cell_type": "markdown",
   "metadata": {},
   "source": [
    "## Commentating the example code:(20 pnts)\n",
    " - Using InsertCursor to do the same thing but project the geometry to a different spatial reference \n",
    "\n",
    "- The above code only imports the csv to a feature class but not converting from a GCS to a project coordinate system\n",
    "- We will use the following code to do the work and project the data to \"NAD 1983 USGS Contiguous USA Albers\" system with the WKID = 102039\n",
    "- Look the code up from here: https://epsg.io/102039"
   ]
  },
  {
   "cell_type": "code",
   "execution_count": 4,
   "metadata": {},
   "outputs": [
    {
     "ename": "<class 'arcgisscripting.ExecuteError'>",
     "evalue": "Failed to execute. Parameters are not valid.\nERROR 000732: Feature Class Location: Dataset F:\\OneDrive - Louisiana State University\\LSU_Course\\GEOG\\GEOG 4057 GIS Programming\\GEOG4057_Hanqi\\Assignments\\Assignment 06_Hanqi\\Assignment 6 Spatial Data Manipulation_Hanqi.gdb does not exist or is not supported\nFailed to execute (CreateFeatureclass).\n",
     "output_type": "error",
     "traceback": [
      "\u001b[1;31m---------------------------------------------------------------------------\u001b[0m",
      "\u001b[1;31mExecuteError\u001b[0m                              Traceback (most recent call last)",
      "Cell \u001b[1;32mIn[4], line 29\u001b[0m\n\u001b[0;32m     24\u001b[0m     arcpy\u001b[38;5;241m.\u001b[39mmanagement\u001b[38;5;241m.\u001b[39mDelete(fcName)\n\u001b[0;32m     27\u001b[0m \u001b[38;5;66;03m# Create a new point feature class\u001b[39;00m\n\u001b[1;32m---> 29\u001b[0m arcpy\u001b[38;5;241m.\u001b[39mCreateFeatureclass_management(geodatabase_path, feature_class_name, \u001b[38;5;124m\"\u001b[39m\u001b[38;5;124mPOINT\u001b[39m\u001b[38;5;124m\"\u001b[39m, spatial_reference\u001b[38;5;241m=\u001b[39msr_albsers)\n\u001b[0;32m     30\u001b[0m \u001b[38;5;66;03m# Add fields to the feature class based on the CSV header\u001b[39;00m\n\u001b[0;32m     31\u001b[0m \n\u001b[0;32m     32\u001b[0m \u001b[38;5;66;03m# first, read the exisint fields \u001b[39;00m\n\u001b[0;32m     33\u001b[0m describe \u001b[38;5;241m=\u001b[39m arcpy\u001b[38;5;241m.\u001b[39mda\u001b[38;5;241m.\u001b[39mDescribe(fcName)\n",
      "File \u001b[1;32m~\\AppData\\Local\\Programs\\ArcGIS\\Pro\\Resources\\ArcPy\\arcpy\\management.py:5659\u001b[0m, in \u001b[0;36mCreateFeatureclass\u001b[1;34m(out_path, out_name, geometry_type, template, has_m, has_z, spatial_reference, config_keyword, spatial_grid_1, spatial_grid_2, spatial_grid_3, out_alias, oid_type)\u001b[0m\n\u001b[0;32m   5657\u001b[0m     \u001b[38;5;28;01mreturn\u001b[39;00m retval\n\u001b[0;32m   5658\u001b[0m \u001b[38;5;28;01mexcept\u001b[39;00m \u001b[38;5;167;01mException\u001b[39;00m \u001b[38;5;28;01mas\u001b[39;00m e:\n\u001b[1;32m-> 5659\u001b[0m     \u001b[38;5;28;01mraise\u001b[39;00m e\n",
      "File \u001b[1;32m~\\AppData\\Local\\Programs\\ArcGIS\\Pro\\Resources\\ArcPy\\arcpy\\management.py:5636\u001b[0m, in \u001b[0;36mCreateFeatureclass\u001b[1;34m(out_path, out_name, geometry_type, template, has_m, has_z, spatial_reference, config_keyword, spatial_grid_1, spatial_grid_2, spatial_grid_3, out_alias, oid_type)\u001b[0m\n\u001b[0;32m   5632\u001b[0m \u001b[38;5;28;01mfrom\u001b[39;00m \u001b[38;5;21;01marcpy\u001b[39;00m\u001b[38;5;21;01m.\u001b[39;00m\u001b[38;5;21;01marcobjects\u001b[39;00m\u001b[38;5;21;01m.\u001b[39;00m\u001b[38;5;21;01marcobjectconversion\u001b[39;00m \u001b[38;5;28;01mimport\u001b[39;00m convertArcObjectToPythonObject\n\u001b[0;32m   5634\u001b[0m \u001b[38;5;28;01mtry\u001b[39;00m:\n\u001b[0;32m   5635\u001b[0m     retval \u001b[38;5;241m=\u001b[39m convertArcObjectToPythonObject(\n\u001b[1;32m-> 5636\u001b[0m         gp\u001b[38;5;241m.\u001b[39mCreateFeatureclass_management(\n\u001b[0;32m   5637\u001b[0m             \u001b[38;5;241m*\u001b[39mgp_fixargs(\n\u001b[0;32m   5638\u001b[0m                 (\n\u001b[0;32m   5639\u001b[0m                     out_path,\n\u001b[0;32m   5640\u001b[0m                     out_name,\n\u001b[0;32m   5641\u001b[0m                     geometry_type,\n\u001b[0;32m   5642\u001b[0m                     template,\n\u001b[0;32m   5643\u001b[0m                     has_m,\n\u001b[0;32m   5644\u001b[0m                     has_z,\n\u001b[0;32m   5645\u001b[0m                     spatial_reference,\n\u001b[0;32m   5646\u001b[0m                     config_keyword,\n\u001b[0;32m   5647\u001b[0m                     spatial_grid_1,\n\u001b[0;32m   5648\u001b[0m                     spatial_grid_2,\n\u001b[0;32m   5649\u001b[0m                     spatial_grid_3,\n\u001b[0;32m   5650\u001b[0m                     out_alias,\n\u001b[0;32m   5651\u001b[0m                     oid_type,\n\u001b[0;32m   5652\u001b[0m                 ),\n\u001b[0;32m   5653\u001b[0m                 \u001b[38;5;28;01mTrue\u001b[39;00m,\n\u001b[0;32m   5654\u001b[0m             )\n\u001b[0;32m   5655\u001b[0m         )\n\u001b[0;32m   5656\u001b[0m     )\n\u001b[0;32m   5657\u001b[0m     \u001b[38;5;28;01mreturn\u001b[39;00m retval\n\u001b[0;32m   5658\u001b[0m \u001b[38;5;28;01mexcept\u001b[39;00m \u001b[38;5;167;01mException\u001b[39;00m \u001b[38;5;28;01mas\u001b[39;00m e:\n",
      "File \u001b[1;32m~\\AppData\\Local\\Programs\\ArcGIS\\Pro\\Resources\\ArcPy\\arcpy\\geoprocessing\\_base.py:532\u001b[0m, in \u001b[0;36mGeoprocessor.__getattr__.<locals>.<lambda>\u001b[1;34m(*args)\u001b[0m\n\u001b[0;32m    530\u001b[0m val \u001b[38;5;241m=\u001b[39m \u001b[38;5;28mgetattr\u001b[39m(\u001b[38;5;28mself\u001b[39m\u001b[38;5;241m.\u001b[39m_gp, attr)\n\u001b[0;32m    531\u001b[0m \u001b[38;5;28;01mif\u001b[39;00m \u001b[38;5;28mcallable\u001b[39m(val):\n\u001b[1;32m--> 532\u001b[0m     \u001b[38;5;28;01mreturn\u001b[39;00m \u001b[38;5;28;01mlambda\u001b[39;00m \u001b[38;5;241m*\u001b[39margs: val(\u001b[38;5;241m*\u001b[39mgp_fixargs(args, \u001b[38;5;28;01mTrue\u001b[39;00m))\n\u001b[0;32m    533\u001b[0m \u001b[38;5;28;01melse\u001b[39;00m:\n\u001b[0;32m    534\u001b[0m     \u001b[38;5;28;01mreturn\u001b[39;00m convertArcObjectToPythonObject(val)\n",
      "\u001b[1;31mExecuteError\u001b[0m: Failed to execute. Parameters are not valid.\nERROR 000732: Feature Class Location: Dataset F:\\OneDrive - Louisiana State University\\LSU_Course\\GEOG\\GEOG 4057 GIS Programming\\GEOG4057_Hanqi\\Assignments\\Assignment 06_Hanqi\\Assignment 6 Spatial Data Manipulation_Hanqi.gdb does not exist or is not supported\nFailed to execute (CreateFeatureclass).\n"
     ]
    }
   ],
   "source": [
    "import arcpy\n",
    "import csv\n",
    "import os\n",
    "\n",
    "# Edit the path names for your case\n",
    "csv_file_path = r\"F:\\OneDrive - Louisiana State University\\LSU_Course\\GEOG\\GEOG 4057 GIS Programming\\GEOG4057_Hanqi\\Assignments\\Assignment 06_Hanqi\\points.csv\"\n",
    "geodatabase_path = r\"F:\\OneDrive - Louisiana State University\\LSU_Course\\GEOG\\GEOG 4057 GIS Programming\\GEOG4057_Hanqi\\Assignments\\Assignment 06_Hanqi\\Assignment 6 Spatial Data Manipulation_Hanqi.gdb\"\n",
    "feature_class_name = \"point_albers\"\n",
    "\n",
    "# Determine the number of fields and field names from the CSV header\n",
    "with open(csv_file_path, 'r') as csv_file:\n",
    "    csv_reader = csv.reader(csv_file)\n",
    "    header = next(csv_reader)\n",
    "    num_fields = len(header)\n",
    "\n",
    "# Create SpatialReference objects: \n",
    "sr_gcs = arcpy.SpatialReference(4269) \n",
    "sr_albsers = arcpy.SpatialReference(102039)\n",
    "#delete if the feature class exists\n",
    "\n",
    "fcName = os.path.join(geodatabase_path,feature_class_name)\n",
    "\n",
    "if arcpy.Exists(fcName):\n",
    "    arcpy.management.Delete(fcName)\n",
    "\n",
    "\n",
    "# Create a new point feature class\n",
    "\n",
    "arcpy.CreateFeatureclass_management(geodatabase_path, feature_class_name, \"POINT\", spatial_reference=sr_albsers)\n",
    "# Add fields to the feature class based on the CSV header\n",
    "\n",
    "# first, read the exisint fields \n",
    "describe = arcpy.da.Describe(fcName)\n",
    "field_names = [field.name for field in describe[\"fields\"]]\n",
    "\n",
    "\n",
    "for field in header:\n",
    "    if field not in field_names:\n",
    "        arcpy.AddField_management(fcName, field, \"TEXT\")\n",
    "\n",
    "# Create a cursor for inserting point features with additional fields\n",
    "cursor_fields = [\"SHAPE@\"] + header\n",
    "with arcpy.da.InsertCursor(fcName, cursor_fields) as cursor:\n",
    "    # Read data from the CSV file and create point features with attributes\n",
    "    with open(csv_file_path, 'r') as csv_file:\n",
    "        csv_reader = csv.reader(csv_file)\n",
    "        \n",
    "        # Skip the header row (if present)\n",
    "        next(csv_reader, None)\n",
    "        \n",
    "        for table_value in csv_reader:\n",
    "            x = float(table_value[0]) # note that the first two fields in the csv must be longitude and latitude\n",
    "            y = float(table_value[1])\n",
    "            pnt = arcpy.PointGeometry(arcpy.Point(x,y),sr_gcs)\n",
    "            pnt_alberse = pnt.projectAs(sr_albsers)\n",
    "\n",
    "            row = (pnt_alberse,) + tuple(table_value)\n",
    "            cursor.insertRow(row)\n",
    "\n",
    "print(f\"New point feature class '{feature_class_name}' created in '{geodatabase_path}' with {num_fields} fields.\")\n",
    "\n"
   ]
  },
  {
   "cell_type": "markdown",
   "metadata": {},
   "source": [
    "**Edit this block to answer these three questions**\n",
    "\n",
    "Q1: Line by line, explain what was done in the code. (10 pnts)\n",
    "\n",
    "Q2: What do the cod 4269 and 102309 represent? (5 pnts)\n",
    "\n",
    "Q3: Explain what is SHAPE@ (5 pnts)"
   ]
  },
  {
   "cell_type": "markdown",
   "metadata": {},
   "source": [
    "## Use arcpy.Exist() (10 pnts)\n",
    "\n",
    "- This code checks the existence of a specified dataset within an ArcGIS workspace.\n",
    "- Fill the dataset_name and workspace_path variables with the database and the feature class name (points) from the last block\n",
    "- Print a message indicating whether the dataset exists or not."
   ]
  },
  {
   "cell_type": "code",
   "execution_count": null,
   "metadata": {},
   "outputs": [],
   "source": [
    "import arcpy\n",
    "import os\n",
    "\n",
    "# Prompt for user input\n",
    "dataset_name = \"points\"\n",
    "workspace_path = \"Enter the workspace path: \"\n",
    "fullname = os.path.join(workspace_path,dataset_name)\n",
    "# Check if the dataset exists\n",
    "if arcpy.Exists(fullname):\n",
    "    print(f\"The dataset '{dataset_name}' exists in the workspace.\")\n",
    "else:\n",
    "    print(f\"The dataset '{dataset_name}' does not exist in the workspace.\")"
   ]
  },
  {
   "cell_type": "markdown",
   "metadata": {},
   "source": [
    "**Edit this block to answer the question**\n",
    "\n",
    "Q4: Line by line describe what was done by the code in the block above. (10 pnts) \n",
    "\n"
   ]
  },
  {
   "cell_type": "markdown",
   "metadata": {},
   "source": [
    "## Use arcpy.Walk() (10 pnts)\n",
    "\n",
    "- This code uses arcpy.Walk() to iterate through all feature datasets in the geodatabase you just used.\n",
    "- Modify the name of \"workspace\" to make the code work\n",
    "- Run the code to list all the feature classes within each dataset.\n"
   ]
  },
  {
   "cell_type": "code",
   "execution_count": null,
   "metadata": {},
   "outputs": [],
   "source": [
    "import arcpy\n",
    "\n",
    "# Define the workspace\n",
    "workspace = \"C:/path_to_geodatabase.gdb\" # note that you need to put a full path name for this workspace, even running it in ArcGIS Pro. \n",
    "\n",
    "# Use arcpy.Walk() to iterate through feature datasets\n",
    "for dirpath, dirnames, filenames in arcpy.da.Walk(workspace, datatype=\"FeatureClass\"):\n",
    "    for filename in filenames:\n",
    "        print(f\"Feature Class in {dirpath}: {filename}\")"
   ]
  },
  {
   "cell_type": "markdown",
   "metadata": {},
   "source": [
    "**Edit this block to answer the question**\n",
    "\n",
    "Q5: line by line, describe what was done by the code in the block above. (10 pnts)\n"
   ]
  },
  {
   "cell_type": "markdown",
   "metadata": {},
   "source": [
    "## Use List Comprehension (10 pnts)\n",
    "\n",
    "- The following block uses list comprehension to generate a list of .shp files in a specified folder.\n",
    "- Choose the folder name from assignment 4 data/paris subfolder where many shapefiles are located and use it for folder_path\n",
    "- Run the code to print the list of file names\n",
    "\n",
    "\n",
    "- In the second block, the code combines the os.walk() function with the list comprehension to  list all shapefiles in a folder including subfolders\n",
    "\n"
   ]
  },
  {
   "cell_type": "code",
   "execution_count": null,
   "metadata": {},
   "outputs": [],
   "source": [
    "import os\n",
    "\n",
    "# Specify the folder path\n",
    "folder_path = \"C:/path_to_folder\"\n",
    "\n",
    "# Use list comprehension to generate a list of .shp files\n",
    "shp_files = [file for file in os.listdir(folder_path) if file.endswith(\".shp\")]\n",
    "\n",
    "# Print the list of .shp files\n",
    "print(\"Shapefiles in the folder:\")\n",
    "for shp_file in shp_files:\n",
    "    print(shp_file)"
   ]
  },
  {
   "cell_type": "code",
   "execution_count": null,
   "metadata": {},
   "outputs": [],
   "source": [
    "import os\n",
    "# Specify the folder path\n",
    "folder_path = \"C:/path_to_folder\"\n",
    "\n",
    "print(\"Shapefiles in the folder:\")\n",
    "for root, dirs, files in os.walk(folder_path):\n",
    "    shp_files = [file for file in files if file.endswith(\".shp\")]\n",
    "    for shp_file in shp_files:\n",
    "            print(shp_file)"
   ]
  },
  {
   "cell_type": "markdown",
   "metadata": {},
   "source": [
    "**Edit this block to answer the question**\n",
    "\n",
    "Q6: Describe what was done by the code in first blocks above. (5 pnts)\n",
    "\n",
    "Q7: Describe what was done by the code in second blocks above. (5 pnts)"
   ]
  },
  {
   "cell_type": "markdown",
   "metadata": {},
   "source": [
    "## Use arcpy.da.SearchCursor (10 pnts)\n",
    "\n",
    "- This code uses arcpy.da.SearchCursor to extract attribute information from a feature class.\n",
    "- Enter the name of the \"points\" feature class and the field(s) from the feature class to extract.\n",
    "- Run and display the extracted data.\n"
   ]
  },
  {
   "cell_type": "code",
   "execution_count": null,
   "metadata": {},
   "outputs": [],
   "source": [
    "import arcpy\n",
    "\n",
    "# Prompt for user input\n",
    "fc_path = \"Enter the feature class path: \"\n",
    "fields_to_extract = [\"Enter the field(s) to extract (comma-separated): \"]\n",
    "\n",
    "# Use arcpy.da.SearchCursor to extract data\n",
    "with arcpy.da.SearchCursor(fc_path, fields_to_extract) as cursor:\n",
    "    print(\"Extracted Data:\")\n",
    "    for row in cursor:\n",
    "        print([row[i] for i in range(len(fields_to_extract))])"
   ]
  },
  {
   "cell_type": "markdown",
   "metadata": {},
   "source": [
    "**Edit this block to answer the question**\n",
    "\n",
    "Q8: Line by line, explain what was done in the code. 10 pnts "
   ]
  },
  {
   "cell_type": "markdown",
   "metadata": {},
   "source": [
    "## Use addField and field Calculator (20 pnts)\n",
    "\n",
    "- Run the following code block (with \"points\" feature class added to the last map before you switched into the notebook interface)"
   ]
  },
  {
   "cell_type": "code",
   "execution_count": null,
   "metadata": {},
   "outputs": [],
   "source": [
    "import arcpy\n",
    "fc = \"points\"\n",
    "newfieldName = \"all\"\n",
    "arcpy.AddField_management(fc, newfieldName, \"DOUBLE\")\n",
    "expression = \"sum(!Field1!,!Field2!,!Field3!)\"\n",
    "codeblock = \"\"\"\n",
    "def sum(*fields):\n",
    "    sum = 0\n",
    "    for field in fields:\n",
    "        sum += field\n",
    "    return sum\n",
    "\"\"\"\n",
    "arcpy.CalculateField_management(fc, newfieldName, expression, \"\", codeblock)"
   ]
  },
  {
   "cell_type": "markdown",
   "metadata": {},
   "source": [
    "**Edit this block to answer the questions**\n",
    "\n",
    "Q9: line by line, describe what was done by the code in the block above. 10 pnts\n",
    "\n",
    "Q10: Open the attribute table of \"points\" and check if the attribute table has a new filed \"all\" and correct values. Right-click the \"all\" field and click field calculator. Describe what you see in the field calculator interface. Compare the python code versus the field calculator interface. 10 pnts"
   ]
  },
  {
   "cell_type": "markdown",
   "metadata": {},
   "source": [
    "## Submit the assignment ontime (10 pnts)\n",
    "\n",
    "- Late penalty is 10 points from here"
   ]
  }
 ],
 "metadata": {
  "kernelspec": {
   "display_name": "ArcGISPro",
   "language": "python",
   "name": "python3"
  },
  "language_info": {
   "file_extension": ".py",
   "mimetype": "text/x-python",
   "name": "python",
   "version": "3.11.10"
  }
 },
 "nbformat": 4,
 "nbformat_minor": 4
}
